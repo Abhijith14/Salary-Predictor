{
 "cells": [
  {
   "cell_type": "code",
   "execution_count": 1,
   "id": "august-organizer",
   "metadata": {
    "_cell_guid": "b1076dfc-b9ad-4769-8c92-a6c4dae69d19",
    "_uuid": "8f2839f25d086af736a60e9eeb907d3b93b6e0e5",
    "execution": {
     "iopub.execute_input": "2021-06-23T09:06:01.317563Z",
     "iopub.status.busy": "2021-06-23T09:06:01.316389Z",
     "iopub.status.idle": "2021-06-23T09:06:02.668530Z",
     "shell.execute_reply": "2021-06-23T09:06:02.667665Z",
     "shell.execute_reply.started": "2021-06-23T09:01:24.838937Z"
    },
    "papermill": {
     "duration": 1.3752,
     "end_time": "2021-06-23T09:06:02.668709",
     "exception": false,
     "start_time": "2021-06-23T09:06:01.293509",
     "status": "completed"
    },
    "tags": []
   },
   "outputs": [],
   "source": [
    "import numpy as np\n",
    "import matplotlib.pyplot as plt\n",
    "import pandas as pd\n",
    "\n",
    "import seaborn as sns\n",
    "\n",
    "from sklearn import linear_model\n",
    "from sklearn.model_selection import train_test_split\n",
    "from sklearn.metrics import r2_score"
   ]
  },
  {
   "cell_type": "code",
   "execution_count": 2,
   "id": "twenty-marriage",
   "metadata": {
    "execution": {
     "iopub.execute_input": "2021-06-23T09:06:02.712454Z",
     "iopub.status.busy": "2021-06-23T09:06:02.711805Z",
     "iopub.status.idle": "2021-06-23T09:06:02.730335Z",
     "shell.execute_reply": "2021-06-23T09:06:02.729704Z",
     "shell.execute_reply.started": "2021-06-23T09:01:28.269941Z"
    },
    "papermill": {
     "duration": 0.041408,
     "end_time": "2021-06-23T09:06:02.730486",
     "exception": false,
     "start_time": "2021-06-23T09:06:02.689078",
     "status": "completed"
    },
    "tags": []
   },
   "outputs": [],
   "source": [
    "ds = pd.read_csv('Salary.csv')"
   ]
  },
  {
   "cell_type": "code",
   "execution_count": 3,
   "id": "prescription-strategy",
   "metadata": {
    "execution": {
     "iopub.execute_input": "2021-06-23T09:06:02.781327Z",
     "iopub.status.busy": "2021-06-23T09:06:02.780591Z",
     "iopub.status.idle": "2021-06-23T09:06:02.784361Z",
     "shell.execute_reply": "2021-06-23T09:06:02.783693Z",
     "shell.execute_reply.started": "2021-06-23T09:01:38.046209Z"
    },
    "papermill": {
     "duration": 0.035333,
     "end_time": "2021-06-23T09:06:02.784505",
     "exception": false,
     "start_time": "2021-06-23T09:06:02.749172",
     "status": "completed"
    },
    "tags": []
   },
   "outputs": [],
   "source": [
    "X = np.array(ds['YearsExperience'])\n",
    "X = X.reshape(-1, 1)\n",
    "# X = ds.iloc[:,:-1].values can also be done"
   ]
  },
  {
   "cell_type": "code",
   "execution_count": 4,
   "id": "breathing-malaysia",
   "metadata": {
    "execution": {
     "iopub.execute_input": "2021-06-23T09:06:02.826830Z",
     "iopub.status.busy": "2021-06-23T09:06:02.826145Z",
     "iopub.status.idle": "2021-06-23T09:06:02.829476Z",
     "shell.execute_reply": "2021-06-23T09:06:02.828981Z",
     "shell.execute_reply.started": "2021-06-23T09:01:46.703395Z"
    },
    "papermill": {
     "duration": 0.026431,
     "end_time": "2021-06-23T09:06:02.829612",
     "exception": false,
     "start_time": "2021-06-23T09:06:02.803181",
     "status": "completed"
    },
    "tags": []
   },
   "outputs": [],
   "source": [
    "y = np.array(ds['Salary'])\n",
    "#y = ds.iloc[:,-1].values can also be done"
   ]
  },
  {
   "cell_type": "code",
   "execution_count": 5,
   "id": "interim-trial",
   "metadata": {
    "execution": {
     "iopub.execute_input": "2021-06-23T09:06:02.875099Z",
     "iopub.status.busy": "2021-06-23T09:06:02.874388Z",
     "iopub.status.idle": "2021-06-23T09:06:02.892555Z",
     "shell.execute_reply": "2021-06-23T09:06:02.891932Z",
     "shell.execute_reply.started": "2021-06-23T09:02:00.707017Z"
    },
    "papermill": {
     "duration": 0.044474,
     "end_time": "2021-06-23T09:06:02.892712",
     "exception": false,
     "start_time": "2021-06-23T09:06:02.848238",
     "status": "completed"
    },
    "tags": []
   },
   "outputs": [
    {
     "data": {
      "text/html": [
       "<div>\n",
       "<style scoped>\n",
       "    .dataframe tbody tr th:only-of-type {\n",
       "        vertical-align: middle;\n",
       "    }\n",
       "\n",
       "    .dataframe tbody tr th {\n",
       "        vertical-align: top;\n",
       "    }\n",
       "\n",
       "    .dataframe thead th {\n",
       "        text-align: right;\n",
       "    }\n",
       "</style>\n",
       "<table border=\"1\" class=\"dataframe\">\n",
       "  <thead>\n",
       "    <tr style=\"text-align: right;\">\n",
       "      <th></th>\n",
       "      <th>YearsExperience</th>\n",
       "      <th>Salary</th>\n",
       "    </tr>\n",
       "  </thead>\n",
       "  <tbody>\n",
       "    <tr>\n",
       "      <th>0</th>\n",
       "      <td>1.1</td>\n",
       "      <td>39343</td>\n",
       "    </tr>\n",
       "    <tr>\n",
       "      <th>1</th>\n",
       "      <td>1.3</td>\n",
       "      <td>46205</td>\n",
       "    </tr>\n",
       "    <tr>\n",
       "      <th>2</th>\n",
       "      <td>1.5</td>\n",
       "      <td>37731</td>\n",
       "    </tr>\n",
       "    <tr>\n",
       "      <th>3</th>\n",
       "      <td>2.0</td>\n",
       "      <td>43525</td>\n",
       "    </tr>\n",
       "    <tr>\n",
       "      <th>4</th>\n",
       "      <td>2.2</td>\n",
       "      <td>39891</td>\n",
       "    </tr>\n",
       "    <tr>\n",
       "      <th>5</th>\n",
       "      <td>2.9</td>\n",
       "      <td>56642</td>\n",
       "    </tr>\n",
       "    <tr>\n",
       "      <th>6</th>\n",
       "      <td>3.0</td>\n",
       "      <td>60150</td>\n",
       "    </tr>\n",
       "    <tr>\n",
       "      <th>7</th>\n",
       "      <td>3.2</td>\n",
       "      <td>54445</td>\n",
       "    </tr>\n",
       "    <tr>\n",
       "      <th>8</th>\n",
       "      <td>3.2</td>\n",
       "      <td>64445</td>\n",
       "    </tr>\n",
       "    <tr>\n",
       "      <th>9</th>\n",
       "      <td>3.7</td>\n",
       "      <td>57189</td>\n",
       "    </tr>\n",
       "  </tbody>\n",
       "</table>\n",
       "</div>"
      ],
      "text/plain": [
       "   YearsExperience  Salary\n",
       "0              1.1   39343\n",
       "1              1.3   46205\n",
       "2              1.5   37731\n",
       "3              2.0   43525\n",
       "4              2.2   39891\n",
       "5              2.9   56642\n",
       "6              3.0   60150\n",
       "7              3.2   54445\n",
       "8              3.2   64445\n",
       "9              3.7   57189"
      ]
     },
     "execution_count": 5,
     "metadata": {},
     "output_type": "execute_result"
    }
   ],
   "source": [
    "# Checking the dataset\n",
    "ds.head(10)"
   ]
  },
  {
   "cell_type": "code",
   "execution_count": 6,
   "id": "painted-federation",
   "metadata": {
    "execution": {
     "iopub.execute_input": "2021-06-23T09:06:02.941027Z",
     "iopub.status.busy": "2021-06-23T09:06:02.940182Z",
     "iopub.status.idle": "2021-06-23T09:06:02.944405Z",
     "shell.execute_reply": "2021-06-23T09:06:02.944899Z",
     "shell.execute_reply.started": "2021-06-23T09:02:07.182179Z"
    },
    "papermill": {
     "duration": 0.03159,
     "end_time": "2021-06-23T09:06:02.945125",
     "exception": false,
     "start_time": "2021-06-23T09:06:02.913535",
     "status": "completed"
    },
    "tags": []
   },
   "outputs": [
    {
     "data": {
      "text/plain": [
       "YearsExperience    False\n",
       "Salary             False\n",
       "dtype: bool"
      ]
     },
     "execution_count": 6,
     "metadata": {},
     "output_type": "execute_result"
    }
   ],
   "source": [
    "#checking for missing values\n",
    "ds.isnull().any()"
   ]
  },
  {
   "cell_type": "code",
   "execution_count": 7,
   "id": "critical-heath",
   "metadata": {
    "execution": {
     "iopub.execute_input": "2021-06-23T09:06:02.994215Z",
     "iopub.status.busy": "2021-06-23T09:06:02.993458Z",
     "iopub.status.idle": "2021-06-23T09:06:03.010598Z",
     "shell.execute_reply": "2021-06-23T09:06:03.010064Z",
     "shell.execute_reply.started": "2021-06-23T09:02:12.108915Z"
    },
    "papermill": {
     "duration": 0.045801,
     "end_time": "2021-06-23T09:06:03.010735",
     "exception": false,
     "start_time": "2021-06-23T09:06:02.964934",
     "status": "completed"
    },
    "tags": []
   },
   "outputs": [
    {
     "data": {
      "text/html": [
       "<div>\n",
       "<style scoped>\n",
       "    .dataframe tbody tr th:only-of-type {\n",
       "        vertical-align: middle;\n",
       "    }\n",
       "\n",
       "    .dataframe tbody tr th {\n",
       "        vertical-align: top;\n",
       "    }\n",
       "\n",
       "    .dataframe thead th {\n",
       "        text-align: right;\n",
       "    }\n",
       "</style>\n",
       "<table border=\"1\" class=\"dataframe\">\n",
       "  <thead>\n",
       "    <tr style=\"text-align: right;\">\n",
       "      <th></th>\n",
       "      <th>YearsExperience</th>\n",
       "      <th>Salary</th>\n",
       "    </tr>\n",
       "  </thead>\n",
       "  <tbody>\n",
       "    <tr>\n",
       "      <th>count</th>\n",
       "      <td>35.000000</td>\n",
       "      <td>35.000000</td>\n",
       "    </tr>\n",
       "    <tr>\n",
       "      <th>mean</th>\n",
       "      <td>6.308571</td>\n",
       "      <td>83945.600000</td>\n",
       "    </tr>\n",
       "    <tr>\n",
       "      <th>std</th>\n",
       "      <td>3.618610</td>\n",
       "      <td>32162.673003</td>\n",
       "    </tr>\n",
       "    <tr>\n",
       "      <th>min</th>\n",
       "      <td>1.100000</td>\n",
       "      <td>37731.000000</td>\n",
       "    </tr>\n",
       "    <tr>\n",
       "      <th>25%</th>\n",
       "      <td>3.450000</td>\n",
       "      <td>57019.000000</td>\n",
       "    </tr>\n",
       "    <tr>\n",
       "      <th>50%</th>\n",
       "      <td>5.300000</td>\n",
       "      <td>81363.000000</td>\n",
       "    </tr>\n",
       "    <tr>\n",
       "      <th>75%</th>\n",
       "      <td>9.250000</td>\n",
       "      <td>113223.500000</td>\n",
       "    </tr>\n",
       "    <tr>\n",
       "      <th>max</th>\n",
       "      <td>13.500000</td>\n",
       "      <td>139465.000000</td>\n",
       "    </tr>\n",
       "  </tbody>\n",
       "</table>\n",
       "</div>"
      ],
      "text/plain": [
       "       YearsExperience         Salary\n",
       "count        35.000000      35.000000\n",
       "mean          6.308571   83945.600000\n",
       "std           3.618610   32162.673003\n",
       "min           1.100000   37731.000000\n",
       "25%           3.450000   57019.000000\n",
       "50%           5.300000   81363.000000\n",
       "75%           9.250000  113223.500000\n",
       "max          13.500000  139465.000000"
      ]
     },
     "execution_count": 7,
     "metadata": {},
     "output_type": "execute_result"
    }
   ],
   "source": [
    "ds.describe()"
   ]
  },
  {
   "cell_type": "code",
   "execution_count": 8,
   "id": "sitting-spouse",
   "metadata": {
    "execution": {
     "iopub.execute_input": "2021-06-23T09:06:03.057076Z",
     "iopub.status.busy": "2021-06-23T09:06:03.056410Z",
     "iopub.status.idle": "2021-06-23T09:06:03.059481Z",
     "shell.execute_reply": "2021-06-23T09:06:03.058932Z",
     "shell.execute_reply.started": "2021-06-23T09:02:30.514232Z"
    },
    "papermill": {
     "duration": 0.02856,
     "end_time": "2021-06-23T09:06:03.059625",
     "exception": false,
     "start_time": "2021-06-23T09:06:03.031065",
     "status": "completed"
    },
    "tags": []
   },
   "outputs": [],
   "source": [
    "# Splitting into training and test data\n",
    "X_train, X_test, y_train, y_test = train_test_split(X, y, test_size=0.2, random_state=5)"
   ]
  },
  {
   "cell_type": "code",
   "execution_count": 9,
   "id": "instrumental-standing",
   "metadata": {
    "execution": {
     "iopub.execute_input": "2021-06-23T09:06:03.105640Z",
     "iopub.status.busy": "2021-06-23T09:06:03.104659Z",
     "iopub.status.idle": "2021-06-23T09:06:03.109027Z",
     "shell.execute_reply": "2021-06-23T09:06:03.108392Z",
     "shell.execute_reply.started": "2021-06-23T09:02:36.078226Z"
    },
    "papermill": {
     "duration": 0.02946,
     "end_time": "2021-06-23T09:06:03.109170",
     "exception": false,
     "start_time": "2021-06-23T09:06:03.079710",
     "status": "completed"
    },
    "tags": []
   },
   "outputs": [
    {
     "name": "stdout",
     "output_type": "stream",
     "text": [
      "(28, 1)\n",
      "(7, 1)\n"
     ]
    }
   ],
   "source": [
    "print(X_train.shape)\n",
    "print(X_test.shape)"
   ]
  },
  {
   "cell_type": "code",
   "execution_count": 10,
   "id": "possible-forest",
   "metadata": {
    "execution": {
     "iopub.execute_input": "2021-06-23T09:06:03.175317Z",
     "iopub.status.busy": "2021-06-23T09:06:03.174558Z",
     "iopub.status.idle": "2021-06-23T09:06:03.392073Z",
     "shell.execute_reply": "2021-06-23T09:06:03.392542Z",
     "shell.execute_reply.started": "2021-06-23T09:02:41.605012Z"
    },
    "papermill": {
     "duration": 0.263078,
     "end_time": "2021-06-23T09:06:03.392721",
     "exception": false,
     "start_time": "2021-06-23T09:06:03.129643",
     "status": "completed"
    },
    "tags": []
   },
   "outputs": [
    {
     "data": {
      "text/plain": [
       "<AxesSubplot:xlabel='YearsExperience', ylabel='Salary'>"
      ]
     },
     "execution_count": 10,
     "metadata": {},
     "output_type": "execute_result"
    },
    {
     "data": {
      "image/png": "[encoded data removed]",
      "text/plain": [
       "<Figure size 432x288 with 1 Axes>"
      ]
     },
     "metadata": {
      "needs_background": "light"
     },
     "output_type": "display_data"
    }
   ],
   "source": [
    "sns.scatterplot(data=ds, y=\"Salary\", x=\"YearsExperience\")\n",
    "#shows as years increase, salary also increases"
   ]
  },
  {
   "cell_type": "code",
   "execution_count": 11,
   "id": "adaptive-battle",
   "metadata": {
    "execution": {
     "iopub.execute_input": "2021-06-23T09:06:03.439601Z",
     "iopub.status.busy": "2021-06-23T09:06:03.438601Z",
     "iopub.status.idle": "2021-06-23T09:06:03.442783Z",
     "shell.execute_reply": "2021-06-23T09:06:03.443324Z",
     "shell.execute_reply.started": "2021-06-23T09:02:59.529618Z"
    },
    "papermill": {
     "duration": 0.029448,
     "end_time": "2021-06-23T09:06:03.443496",
     "exception": false,
     "start_time": "2021-06-23T09:06:03.414048",
     "status": "completed"
    },
    "tags": []
   },
   "outputs": [],
   "source": [
    "#Regression Object\n",
    "regressor = linear_model.LinearRegression()"
   ]
  },
  {
   "cell_type": "code",
   "execution_count": 12,
   "id": "engaging-there",
   "metadata": {
    "execution": {
     "iopub.execute_input": "2021-06-23T09:06:03.490114Z",
     "iopub.status.busy": "2021-06-23T09:06:03.489144Z",
     "iopub.status.idle": "2021-06-23T09:06:03.511063Z",
     "shell.execute_reply": "2021-06-23T09:06:03.511586Z",
     "shell.execute_reply.started": "2021-06-23T09:03:03.305255Z"
    },
    "papermill": {
     "duration": 0.047005,
     "end_time": "2021-06-23T09:06:03.511776",
     "exception": false,
     "start_time": "2021-06-23T09:06:03.464771",
     "status": "completed"
    },
    "tags": []
   },
   "outputs": [
    {
     "data": {
      "text/plain": [
       "LinearRegression()"
      ]
     },
     "execution_count": 12,
     "metadata": {},
     "output_type": "execute_result"
    }
   ],
   "source": [
    "regressor.fit(X_train, y_train)"
   ]
  },
  {
   "cell_type": "code",
   "execution_count": 13,
   "id": "social-cancer",
   "metadata": {
    "execution": {
     "iopub.execute_input": "2021-06-23T09:06:03.560879Z",
     "iopub.status.busy": "2021-06-23T09:06:03.560233Z",
     "iopub.status.idle": "2021-06-23T09:06:03.563760Z",
     "shell.execute_reply": "2021-06-23T09:06:03.563124Z",
     "shell.execute_reply.started": "2021-06-23T09:03:07.188072Z"
    },
    "papermill": {
     "duration": 0.030471,
     "end_time": "2021-06-23T09:06:03.563900",
     "exception": false,
     "start_time": "2021-06-23T09:06:03.533429",
     "status": "completed"
    },
    "tags": []
   },
   "outputs": [],
   "source": [
    "predicted = regressor.predict(X_test.reshape(-1, 1))"
   ]
  },
  {
   "cell_type": "code",
   "execution_count": 14,
   "id": "surgical-garden",
   "metadata": {
    "execution": {
     "iopub.execute_input": "2021-06-23T09:06:03.615479Z",
     "iopub.status.busy": "2021-06-23T09:06:03.614774Z",
     "iopub.status.idle": "2021-06-23T09:06:03.620162Z",
     "shell.execute_reply": "2021-06-23T09:06:03.621287Z",
     "shell.execute_reply.started": "2021-06-23T09:03:13.230106Z"
    },
    "papermill": {
     "duration": 0.035462,
     "end_time": "2021-06-23T09:06:03.621612",
     "exception": false,
     "start_time": "2021-06-23T09:06:03.586150",
     "status": "completed"
    },
    "tags": []
   },
   "outputs": [
    {
     "name": "stdout",
     "output_type": "stream",
     "text": [
      "Coefficients: \n",
      " [8755.64617983]\n",
      "Residual sum of squares: 7085348.45\n",
      "Variance score: 0.99\n"
     ]
    }
   ],
   "source": [
    "# The coefficients\n",
    "print('Coefficients: \\n', regressor.coef_)\n",
    "# The mean square error\n",
    "print (\"Residual sum of squares: %.2f\" % np.mean((regressor.predict(X_test.reshape(-1, 1)) - y_test)**2))\n",
    "# Explained variance score: 1 is perfect prediction\n",
    "print ('Variance score: %.2f' % regressor.score(X_test.reshape(-1, 1), y_test))"
   ]
  },
  {
   "cell_type": "code",
   "execution_count": 15,
   "id": "portuguese-assessment",
   "metadata": {
    "execution": {
     "iopub.execute_input": "2021-06-23T09:06:03.673240Z",
     "iopub.status.busy": "2021-06-23T09:06:03.672573Z",
     "iopub.status.idle": "2021-06-23T09:06:03.676781Z",
     "shell.execute_reply": "2021-06-23T09:06:03.676160Z",
     "shell.execute_reply.started": "2021-06-23T09:03:32.503364Z"
    },
    "papermill": {
     "duration": 0.032384,
     "end_time": "2021-06-23T09:06:03.676921",
     "exception": false,
     "start_time": "2021-06-23T09:06:03.644537",
     "status": "completed"
    },
    "tags": []
   },
   "outputs": [
    {
     "data": {
      "text/plain": [
       "0.9920709643930944"
      ]
     },
     "execution_count": 15,
     "metadata": {},
     "output_type": "execute_result"
    }
   ],
   "source": [
    "# Checking score\n",
    "r2_score(y_test,regressor.predict(X_test.reshape(-1, 1)))\n",
    "#Gives 99%"
   ]
  },
  {
   "cell_type": "code",
   "execution_count": 16,
   "id": "limiting-preference",
   "metadata": {
    "execution": {
     "iopub.execute_input": "2021-06-23T09:06:03.754846Z",
     "iopub.status.busy": "2021-06-23T09:06:03.753163Z",
     "iopub.status.idle": "2021-06-23T09:06:03.906802Z",
     "shell.execute_reply": "2021-06-23T09:06:03.905654Z",
     "shell.execute_reply.started": "2021-06-23T09:03:39.775228Z"
    },
    "papermill": {
     "duration": 0.207154,
     "end_time": "2021-06-23T09:06:03.907069",
     "exception": false,
     "start_time": "2021-06-23T09:06:03.699915",
     "status": "completed"
    },
    "tags": []
   },
   "outputs": [
    {
     "data": {
      "text/plain": [
       "Text(0.5, 1.0, 'visualising test set results')"
      ]
     },
     "execution_count": 16,
     "metadata": {},
     "output_type": "execute_result"
    },
    {
     "data": {
      "image/png": "[encoded data removed]",
      "text/plain": [
       "<Figure size 432x288 with 1 Axes>"
      ]
     },
     "metadata": {
      "needs_background": "light"
     },
     "output_type": "display_data"
    }
   ],
   "source": [
    "#visualising test set results\n",
    "plt.scatter(X_test,y_test,c = 'red')\n",
    "plt.plot(X_train, regressor.predict(X_train))\n",
    "plt.xlabel('number of years')\n",
    "plt.ylabel('salary')\n",
    "plt.title('visualising test set results')"
   ]
  },
  {
   "cell_type": "code",
   "execution_count": null,
   "id": "committed-mattress",
   "metadata": {
    "papermill": {
     "duration": 0.037898,
     "end_time": "2021-06-23T09:06:03.976770",
     "exception": false,
     "start_time": "2021-06-23T09:06:03.938872",
     "status": "completed"
    },
    "tags": []
   },
   "outputs": [],
   "source": []
  },
  {
   "cell_type": "code",
   "execution_count": 17,
   "id": "inside-count",
   "metadata": {
    "execution": {
     "iopub.execute_input": "2021-06-23T09:06:04.038467Z",
     "iopub.status.busy": "2021-06-23T09:06:04.037756Z",
     "iopub.status.idle": "2021-06-23T09:06:04.297059Z",
     "shell.execute_reply": "2021-06-23T09:06:04.297523Z",
     "shell.execute_reply.started": "2021-06-23T09:04:04.800746Z"
    },
    "papermill": {
     "duration": 0.288463,
     "end_time": "2021-06-23T09:06:04.297746",
     "exception": false,
     "start_time": "2021-06-23T09:06:04.009283",
     "status": "completed"
    },
    "tags": []
   },
   "outputs": [
    {
     "name": "stderr",
     "output_type": "stream",
     "text": [
      "/opt/conda/lib/python3.7/site-packages/seaborn/_decorators.py:43: FutureWarning: Pass the following variables as keyword args: x, y. From version 0.12, the only valid positional argument will be `data`, and passing other arguments without an explicit keyword will result in an error or misinterpretation.\n",
      "  FutureWarning\n"
     ]
    },
    {
     "data": {
      "text/plain": [
       "<AxesSubplot:>"
      ]
     },
     "execution_count": 17,
     "metadata": {},
     "output_type": "execute_result"
    },
    {
     "data": {
      "image/png": "[encoded data removed]",
      "text/plain": [
       "<Figure size 432x288 with 1 Axes>"
      ]
     },
     "metadata": {
      "needs_background": "light"
     },
     "output_type": "display_data"
    }
   ],
   "source": [
    "predictions = regressor.predict(X_test)\n",
    "sns.regplot(y_test,predictions)"
   ]
  },
  {
   "cell_type": "code",
   "execution_count": 18,
   "id": "according-idaho",
   "metadata": {
    "execution": {
     "iopub.execute_input": "2021-06-23T09:06:04.354396Z",
     "iopub.status.busy": "2021-06-23T09:06:04.353626Z",
     "iopub.status.idle": "2021-06-23T09:06:04.357279Z",
     "shell.execute_reply": "2021-06-23T09:06:04.357775Z",
     "shell.execute_reply.started": "2021-06-23T09:04:28.550307Z"
    },
    "papermill": {
     "duration": 0.035203,
     "end_time": "2021-06-23T09:06:04.357947",
     "exception": false,
     "start_time": "2021-06-23T09:06:04.322744",
     "status": "completed"
    },
    "tags": []
   },
   "outputs": [
    {
     "data": {
      "text/plain": [
       "array([[126756],\n",
       "       [101302],\n",
       "       [ 43525],\n",
       "       [ 81363],\n",
       "       [ 91738],\n",
       "       [ 56642],\n",
       "       [ 39343]])"
      ]
     },
     "execution_count": 18,
     "metadata": {},
     "output_type": "execute_result"
    }
   ],
   "source": [
    "y_test_matrix = y_test.reshape(-1,1)\n",
    "y_test_matrix"
   ]
  },
  {
   "cell_type": "code",
   "execution_count": 19,
   "id": "identical-father",
   "metadata": {
    "execution": {
     "iopub.execute_input": "2021-06-23T09:06:04.413755Z",
     "iopub.status.busy": "2021-06-23T09:06:04.413061Z",
     "iopub.status.idle": "2021-06-23T09:06:04.418285Z",
     "shell.execute_reply": "2021-06-23T09:06:04.418848Z",
     "shell.execute_reply.started": "2021-06-23T09:04:35.987556Z"
    },
    "papermill": {
     "duration": 0.035784,
     "end_time": "2021-06-23T09:06:04.419083",
     "exception": false,
     "start_time": "2021-06-23T09:06:04.383299",
     "status": "completed"
    },
    "tags": []
   },
   "outputs": [],
   "source": [
    "#load actual and predecited values side by side\n",
    "dframe=pd.DataFrame({'actual':y_test_matrix.flatten(),'Predicted':predictions.flatten()}) #flatten toget single axis of data (1 dimension only)"
   ]
  },
  {
   "cell_type": "code",
   "execution_count": 20,
   "id": "related-blond",
   "metadata": {
    "execution": {
     "iopub.execute_input": "2021-06-23T09:06:04.475335Z",
     "iopub.status.busy": "2021-06-23T09:06:04.474636Z",
     "iopub.status.idle": "2021-06-23T09:06:04.484769Z",
     "shell.execute_reply": "2021-06-23T09:06:04.484205Z",
     "shell.execute_reply.started": "2021-06-23T09:04:39.207406Z"
    },
    "papermill": {
     "duration": 0.038515,
     "end_time": "2021-06-23T09:06:04.484921",
     "exception": false,
     "start_time": "2021-06-23T09:06:04.446406",
     "status": "completed"
    },
    "tags": []
   },
   "outputs": [
    {
     "data": {
      "text/html": [
       "<div>\n",
       "<style scoped>\n",
       "    .dataframe tbody tr th:only-of-type {\n",
       "        vertical-align: middle;\n",
       "    }\n",
       "\n",
       "    .dataframe tbody tr th {\n",
       "        vertical-align: top;\n",
       "    }\n",
       "\n",
       "    .dataframe thead th {\n",
       "        text-align: right;\n",
       "    }\n",
       "</style>\n",
       "<table border=\"1\" class=\"dataframe\">\n",
       "  <thead>\n",
       "    <tr style=\"text-align: right;\">\n",
       "      <th></th>\n",
       "      <th>actual</th>\n",
       "      <th>Predicted</th>\n",
       "    </tr>\n",
       "  </thead>\n",
       "  <tbody>\n",
       "    <tr>\n",
       "      <th>0</th>\n",
       "      <td>126756</td>\n",
       "      <td>129181.732602</td>\n",
       "    </tr>\n",
       "    <tr>\n",
       "      <th>1</th>\n",
       "      <td>101302</td>\n",
       "      <td>97661.406354</td>\n",
       "    </tr>\n",
       "    <tr>\n",
       "      <th>2</th>\n",
       "      <td>43525</td>\n",
       "      <td>46003.093893</td>\n",
       "    </tr>\n",
       "    <tr>\n",
       "      <th>3</th>\n",
       "      <td>81363</td>\n",
       "      <td>80150.113995</td>\n",
       "    </tr>\n",
       "    <tr>\n",
       "      <th>4</th>\n",
       "      <td>91738</td>\n",
       "      <td>88030.195557</td>\n",
       "    </tr>\n",
       "    <tr>\n",
       "      <th>5</th>\n",
       "      <td>56642</td>\n",
       "      <td>53883.175455</td>\n",
       "    </tr>\n",
       "    <tr>\n",
       "      <th>6</th>\n",
       "      <td>39343</td>\n",
       "      <td>38123.012332</td>\n",
       "    </tr>\n",
       "  </tbody>\n",
       "</table>\n",
       "</div>"
      ],
      "text/plain": [
       "   actual      Predicted\n",
       "0  126756  129181.732602\n",
       "1  101302   97661.406354\n",
       "2   43525   46003.093893\n",
       "3   81363   80150.113995\n",
       "4   91738   88030.195557\n",
       "5   56642   53883.175455\n",
       "6   39343   38123.012332"
      ]
     },
     "execution_count": 20,
     "metadata": {},
     "output_type": "execute_result"
    }
   ],
   "source": [
    "dframe.head(7)\n",
    "#almost similar"
   ]
  },
  {
   "cell_type": "code",
   "execution_count": 21,
   "id": "comparable-motorcycle",
   "metadata": {
    "execution": {
     "iopub.execute_input": "2021-06-23T09:06:04.541739Z",
     "iopub.status.busy": "2021-06-23T09:06:04.541041Z",
     "iopub.status.idle": "2021-06-23T09:06:04.760285Z",
     "shell.execute_reply": "2021-06-23T09:06:04.760802Z",
     "shell.execute_reply.started": "2021-06-23T09:04:49.387056Z"
    },
    "papermill": {
     "duration": 0.250374,
     "end_time": "2021-06-23T09:06:04.761068",
     "exception": false,
     "start_time": "2021-06-23T09:06:04.510694",
     "status": "completed"
    },
    "tags": []
   },
   "outputs": [
    {
     "data": {
      "text/plain": [
       "Text(0, 0.5, 'salary')"
      ]
     },
     "execution_count": 21,
     "metadata": {},
     "output_type": "execute_result"
    },
    {
     "data": {
      "image/png": "[encoded data removed]",
      "text/plain": [
       "<Figure size 432x288 with 1 Axes>"
      ]
     },
     "metadata": {
      "needs_background": "light"
     },
     "output_type": "display_data"
    }
   ],
   "source": [
    "# Final Graph\n",
    "graph =dframe.head(7)\n",
    "graph.plot(kind='bar')\n",
    "plt.title('Actual vs Predicted')\n",
    "plt.ylabel('salary')"
   ]
  },
  {
   "cell_type": "code",
   "execution_count": null,
   "id": "neither-concord",
   "metadata": {
    "papermill": {
     "duration": 0.026497,
     "end_time": "2021-06-23T09:06:04.814432",
     "exception": false,
     "start_time": "2021-06-23T09:06:04.787935",
     "status": "completed"
    },
    "tags": []
   },
   "outputs": [],
   "source": []
  }
 ],
 "metadata": {
  "kernelspec": {
   "display_name": "Python 3",
   "language": "python",
   "name": "python3"
  },
  "language_info": {
   "codemirror_mode": {
    "name": "ipython",
    "version": 3
   },
   "file_extension": ".py",
   "mimetype": "text/x-python",
   "name": "python",
   "nbconvert_exporter": "python",
   "pygments_lexer": "ipython3",
   "version": "3.7.9"
  },
  "papermill": {
   "default_parameters": {},
   "duration": 10.540352,
   "end_time": "2021-06-23T09:06:05.553468",
   "environment_variables": {},
   "exception": null,
   "input_path": "__notebook__.ipynb",
   "output_path": "__notebook__.ipynb",
   "parameters": {},
   "start_time": "2021-06-23T09:05:55.013116",
   "version": "2.3.2"
  }
 },
 "nbformat": 4,
 "nbformat_minor": 5
}
